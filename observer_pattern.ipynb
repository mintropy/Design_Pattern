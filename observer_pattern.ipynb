{
 "cells": [
  {
   "cell_type": "markdown",
   "metadata": {},
   "source": [
    "# 옵저버 패턴\n",
    "한 객체의 상태가 바뀌면 그 객체에 의존하는 다른 객체에게 연락이 가고 자동으로 내용이 갱신되는 방식으로 일대다 의존성을 정의\n",
    "\n",
    "- [mintchoco - 옵저버 패턴](https://mintchoco.markbase.xyz/디자인패턴/%28디자인패턴%20-%20옵저버%20패턴)\n",
    "- [민트로피의 민트초코 - 전략패턴](https://mintropy.tistory.com/)"
   ]
  },
  {
   "cell_type": "code",
   "execution_count": 18,
   "metadata": {},
   "outputs": [],
   "source": [
    "import abc"
   ]
  },
  {
   "cell_type": "code",
   "execution_count": 19,
   "metadata": {},
   "outputs": [],
   "source": [
    "class Subject:\n",
    "    __metaclass__ = abc.ABCMeta\n",
    "\n",
    "    @abc.abstractmethod\n",
    "    def register_observer(self):\n",
    "        pass\n",
    "\n",
    "    @abc.abstractmethod\n",
    "    def remove_observer(self):\n",
    "        pass\n",
    "\n",
    "    @abc.abstractmethod\n",
    "    def notify_observer(self):\n",
    "        pass\n",
    "\n",
    "class Observer:\n",
    "    __metaclass__ = abc.ABCMeta\n",
    "\n",
    "    @abc.abstractmethod\n",
    "    def update(self):\n",
    "        pass"
   ]
  },
  {
   "cell_type": "code",
   "execution_count": 20,
   "metadata": {},
   "outputs": [],
   "source": [
    "class WeatherData(Subject):\n",
    "    def __init__(self):\n",
    "        self.observers = []\n",
    "        self.temperature = 0\n",
    "        self.humidity = 0\n",
    "        self.pressure = 0\n",
    "\n",
    "    def register_observer(self, observer):\n",
    "        self.observers.append(observer)\n",
    "\n",
    "    def remove_observer(self, observer):\n",
    "        self.observers.remove(observer)\n",
    "\n",
    "    def notify_observer(self):\n",
    "        for observer in self.observers:\n",
    "            observer.update(self.temperature, self.humidity, self.pressure)\n",
    "\n",
    "    def get_temperature(self):\n",
    "        return self.temperature\n",
    "\n",
    "    def get_humidity(self):\n",
    "        return self.humidity\n",
    "\n",
    "    def get_pressure(self):\n",
    "        return self.pressure\n",
    "\n",
    "    def measurements_changed(self):\n",
    "        self.notify_observer()\n",
    "\n",
    "    def set_measurements(self, temperature, humidity, pressure):\n",
    "        self.temperature = temperature\n",
    "        self.humidity = humidity\n",
    "        self.pressure = pressure\n",
    "        self.measurements_changed()\n"
   ]
  },
  {
   "cell_type": "code",
   "execution_count": 21,
   "metadata": {},
   "outputs": [],
   "source": [
    "class CurrentCondition(Observer):\n",
    "    def __init__(self, subject):\n",
    "        self.subject = subject\n",
    "        self.subject.register_observer(self)\n",
    "\n",
    "    def update(self, temperature, humidity, pressure):\n",
    "        self.temperature = temperature\n",
    "        self.humidity = humidity\n",
    "        self.pressure = pressure\n",
    "        self.display()\n",
    "\n",
    "    def remove(self):\n",
    "        self.subject.remove_observer(self)\n",
    "\n",
    "    def display(self):\n",
    "        print(F\"Currnet condition temp: {self.temperature} hum: {self.humidity} pressure: {self.pressure}\")"
   ]
  },
  {
   "cell_type": "code",
   "execution_count": 27,
   "metadata": {},
   "outputs": [],
   "source": [
    "class StaticsDisplay(Observer):\n",
    "    def __init__(self, subject):\n",
    "        self.subject = subject\n",
    "        self.subject.register_observer(self)\n",
    "\n",
    "    def update(self, temperature, humidity, pressure):\n",
    "        self.temperature = temperature\n",
    "        self.humidity = humidity\n",
    "        self.pressure = pressure\n",
    "        self.display()\n",
    "\n",
    "    def remove(self):\n",
    "        self.subject.remove_observer(self)\n",
    "\n",
    "    def display(self):\n",
    "        print(F\"Statics display temp: {self.temperature} hum: {self.humidity} pressure: {self.pressure}\")"
   ]
  },
  {
   "cell_type": "code",
   "execution_count": 28,
   "metadata": {},
   "outputs": [],
   "source": [
    "weather_data = WeatherData()\n",
    "current_condition = CurrentCondition(weather_data)\n",
    "statics_display = StaticsDisplay(weather_data)"
   ]
  },
  {
   "cell_type": "code",
   "execution_count": 29,
   "metadata": {},
   "outputs": [
    {
     "name": "stdout",
     "output_type": "stream",
     "text": [
      "Currnet condition temp: 10 hum: 50 pressure: 30\n",
      "Statics display temp: 10 hum: 50 pressure: 30\n"
     ]
    }
   ],
   "source": [
    "weather_data.set_measurements(10, 50, 30)"
   ]
  },
  {
   "cell_type": "code",
   "execution_count": 30,
   "metadata": {},
   "outputs": [
    {
     "name": "stdout",
     "output_type": "stream",
     "text": [
      "Currnet condition temp: 20 hum: 60 pressure: 40\n",
      "Statics display temp: 20 hum: 60 pressure: 40\n"
     ]
    }
   ],
   "source": [
    "weather_data.set_measurements(20, 60, 40)"
   ]
  },
  {
   "cell_type": "code",
   "execution_count": 31,
   "metadata": {},
   "outputs": [
    {
     "name": "stdout",
     "output_type": "stream",
     "text": [
      "Currnet condition temp: 15 hum: 30 pressure: 60\n"
     ]
    }
   ],
   "source": [
    "statics_display.remove()\n",
    "weather_data.set_measurements(15, 30, 60)"
   ]
  }
 ],
 "metadata": {
  "kernelspec": {
   "display_name": "Python 3.10.1 64-bit",
   "language": "python",
   "name": "python3"
  },
  "language_info": {
   "codemirror_mode": {
    "name": "ipython",
    "version": 3
   },
   "file_extension": ".py",
   "mimetype": "text/x-python",
   "name": "python",
   "nbconvert_exporter": "python",
   "pygments_lexer": "ipython3",
   "version": "3.10.1"
  },
  "orig_nbformat": 4,
  "vscode": {
   "interpreter": {
    "hash": "7f02f4a5055f1cde27ff0b61c12f30763e97765a53fa3b86e7e87bdb29051a5f"
   }
  }
 },
 "nbformat": 4,
 "nbformat_minor": 2
}
