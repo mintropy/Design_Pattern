{
 "cells": [
  {
   "cell_type": "markdown",
   "metadata": {},
   "source": [
    "# 전략 패턴\n",
    "알고리즘군을 정의하고 캡슐화해서 각각의 알고리즘군을 수정해서 쓸 수 있게 함. 전략 패턴을 사용하면 클라이언트로부터 알고리즘을 분리하여 사용할 수 있음.\n",
    "\n",
    "- [mintchoco - 전략 패턴](https://mintchoco.markbase.xyz/디자인패턴/%28디자인패턴%20-%20전략%20패턴)\n",
    "- [민트로피의 민트초코 - 전략패턴](https://mintropy.tistory.com/61)"
   ]
  },
  {
   "cell_type": "code",
   "execution_count": 1,
   "metadata": {},
   "outputs": [],
   "source": [
    "import abc"
   ]
  },
  {
   "cell_type": "code",
   "execution_count": 2,
   "metadata": {},
   "outputs": [],
   "source": [
    "class Duck:\n",
    "    __metaclass__ = abc.ABCMeta\n",
    "\n",
    "    @abc.abstractmethod\n",
    "    def display(self):\n",
    "        pass\n",
    "\n",
    "    def perform_fly(self):\n",
    "        self.fly_behavior.fly()\n",
    "\n",
    "    def perfrom_quack(self):\n",
    "        self.quack_behavior.quack()"
   ]
  },
  {
   "cell_type": "code",
   "execution_count": 3,
   "metadata": {},
   "outputs": [],
   "source": [
    "class FlyBehavior:\n",
    "    __metaclass__ = abc.ABCMeta\n",
    "\n",
    "    @abc.abstractmethod\n",
    "    def fly(self):\n",
    "        pass\n",
    "\n",
    "class FlyWithWings(FlyBehavior):\n",
    "    def fly(self):\n",
    "        print(\"Fly with wings\")\n",
    "\n",
    "class FlyNoWay(FlyBehavior):\n",
    "    def fly(self):\n",
    "        print(\"Fly no way\")\n",
    "\n",
    "class QuackBehavior:\n",
    "    __metaclass__ = abc.ABCMeta\n",
    "\n",
    "    @abc.abstractmethod\n",
    "    def quack(self):\n",
    "        pass\n",
    "\n",
    "class Quack(QuackBehavior):\n",
    "    def quack(self):\n",
    "        print(\"Quack Quack\")\n",
    "\n",
    "class MuteQuack(QuackBehavior):\n",
    "    def quack(self):\n",
    "        print(\"Mute...\")"
   ]
  },
  {
   "cell_type": "code",
   "execution_count": 4,
   "metadata": {},
   "outputs": [],
   "source": [
    "class MallardDuck(Duck):\n",
    "    def __init__(self):\n",
    "        self.fly_behavior = FlyNoWay()\n",
    "        self.quack_behavior = Quack()\n",
    "\n",
    "    def display(self):\n",
    "        print(\"Mallard Duck\")"
   ]
  },
  {
   "cell_type": "code",
   "execution_count": 5,
   "metadata": {},
   "outputs": [
    {
     "name": "stdout",
     "output_type": "stream",
     "text": [
      "Mallard Duck\n",
      "Fly no way\n",
      "Quack Quack\n"
     ]
    }
   ],
   "source": [
    "mallard_duck = MallardDuck()\n",
    "mallard_duck.display()\n",
    "mallard_duck.perform_fly()\n",
    "mallard_duck.perfrom_quack()"
   ]
  }
 ],
 "metadata": {
  "kernelspec": {
   "display_name": "Python 3.10.1 64-bit",
   "language": "python",
   "name": "python3"
  },
  "language_info": {
   "codemirror_mode": {
    "name": "ipython",
    "version": 3
   },
   "file_extension": ".py",
   "mimetype": "text/x-python",
   "name": "python",
   "nbconvert_exporter": "python",
   "pygments_lexer": "ipython3",
   "version": "3.10.1"
  },
  "orig_nbformat": 4,
  "vscode": {
   "interpreter": {
    "hash": "7f02f4a5055f1cde27ff0b61c12f30763e97765a53fa3b86e7e87bdb29051a5f"
   }
  }
 },
 "nbformat": 4,
 "nbformat_minor": 2
}
