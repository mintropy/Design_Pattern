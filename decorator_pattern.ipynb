{
 "cells": [
  {
   "cell_type": "markdown",
   "metadata": {},
   "source": [
    "# 데코레이터 패턴\n",
    "객체에 추가 요소를 동적으로 더할수 있음. 데코레이터를 사용하면 서브클래스를 만들 때보다 훨씬 유연하게 기능을 확장할 수 있음.\n",
    "\n",
    "- [mintchoco - 데코레이터 패턴](https://mintchoco.markbase.xyz/디자인패턴/%28디자인패턴%20-%20옵저버%20패턴)\n",
    "- [민트로피의 민트초코 - 데코레이터 패턴](https://mintropy.tistory.com/)"
   ]
  },
  {
   "cell_type": "code",
   "execution_count": 1,
   "metadata": {},
   "outputs": [],
   "source": [
    "import abc"
   ]
  },
  {
   "cell_type": "code",
   "execution_count": 2,
   "metadata": {},
   "outputs": [],
   "source": [
    "class Beverage:\n",
    "    __metaclass__ = abc.ABCMeta\n",
    "\n",
    "    def __init__(self):\n",
    "        self.description = \"\"\n",
    "\n",
    "    def get_description(self):\n",
    "        return self.description\n",
    "\n",
    "    @abc.abstractmethod\n",
    "    def cost(self):\n",
    "        pass"
   ]
  },
  {
   "cell_type": "code",
   "execution_count": 3,
   "metadata": {},
   "outputs": [],
   "source": [
    "class CondimentDecorator(Beverage):\n",
    "    __metaclass__ = abc.ABCMeta\n",
    "\n",
    "    @abc.abstractmethod\n",
    "    def get_description(self):\n",
    "        pass\n"
   ]
  },
  {
   "cell_type": "code",
   "execution_count": 4,
   "metadata": {},
   "outputs": [],
   "source": [
    "class Americano(Beverage):\n",
    "    def __init__(self):\n",
    "        self.description = \"Americano\"\n",
    "\n",
    "    def cost(self):\n",
    "        return 4500"
   ]
  },
  {
   "cell_type": "code",
   "execution_count": 5,
   "metadata": {},
   "outputs": [],
   "source": [
    "class Shot(CondimentDecorator):\n",
    "    def __init__(self, beverage: Beverage):\n",
    "        self.beverage = beverage\n",
    "\n",
    "    def get_description(self):\n",
    "        return self.beverage.get_description() + \", Shot\"\n",
    "\n",
    "    def cost(self):\n",
    "        return self.beverage.cost() + 500\n",
    "\n",
    "class Cream(CondimentDecorator):\n",
    "    def __init__(self, beverage: Beverage):\n",
    "        self.beverage = beverage\n",
    "\n",
    "    def get_description(self):\n",
    "        return self.beverage.get_description() + \", Cream\"\n",
    "\n",
    "    def cost(self):\n",
    "        return self.beverage.cost() + 300\n"
   ]
  },
  {
   "cell_type": "code",
   "execution_count": 6,
   "metadata": {},
   "outputs": [
    {
     "name": "stdout",
     "output_type": "stream",
     "text": [
      "Americano 4500\n"
     ]
    }
   ],
   "source": [
    "americano = Americano()\n",
    "print(americano.get_description(), americano.cost())"
   ]
  },
  {
   "cell_type": "code",
   "execution_count": 7,
   "metadata": {},
   "outputs": [
    {
     "name": "stdout",
     "output_type": "stream",
     "text": [
      "Americano, Shot 5000\n",
      "Americano, Shot, Cream 5300\n"
     ]
    }
   ],
   "source": [
    "shot_americano = Shot(americano)\n",
    "print(shot_americano.get_description(), shot_americano.cost())\n",
    "\n",
    "cream_shot_americano = Cream(Shot(americano))\n",
    "print(cream_shot_americano.get_description(), cream_shot_americano.cost())"
   ]
  }
 ],
 "metadata": {
  "kernelspec": {
   "display_name": "Python 3.10.1 64-bit",
   "language": "python",
   "name": "python3"
  },
  "language_info": {
   "codemirror_mode": {
    "name": "ipython",
    "version": 3
   },
   "file_extension": ".py",
   "mimetype": "text/x-python",
   "name": "python",
   "nbconvert_exporter": "python",
   "pygments_lexer": "ipython3",
   "version": "3.10.1"
  },
  "orig_nbformat": 4,
  "vscode": {
   "interpreter": {
    "hash": "7f02f4a5055f1cde27ff0b61c12f30763e97765a53fa3b86e7e87bdb29051a5f"
   }
  }
 },
 "nbformat": 4,
 "nbformat_minor": 2
}
